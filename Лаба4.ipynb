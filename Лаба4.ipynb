{
  "cells": [
    {
      "cell_type": "markdown",
      "metadata": {},
      "source": [
        "- ## ФИО: Восканян Саркис Араратович \n",
        "- ## Группа: БИВТ-21-1"
      ]
    },
    {
      "cell_type": "code",
      "execution_count": 8,
      "metadata": {
        "id": "paqYSKHG623R"
      },
      "outputs": [],
      "source": [
        "import pandas as pd\n",
        "import numpy as np\n",
        "import matplotlib.pyplot as plt\n",
        "import seaborn as sns\n",
        "from sklearn.pipeline import Pipeline\n",
        "from sklearn.impute import SimpleImputer\n",
        "from sklearn.model_selection import train_test_split\n",
        "from sklearn.preprocessing import StandardScaler, MinMaxScaler, OneHotEncoder\n",
        "from sklearn.compose import ColumnTransformer\n",
        "import torch\n",
        "from torch.utils.data import Dataset, DataLoader\n",
        "import torch.nn as nn\n",
        "import torch.optim as optim\n",
        "from sklearn.metrics import accuracy_score, mean_absolute_error"
      ]
    },
    {
      "cell_type": "markdown",
      "metadata": {
        "id": "ePZdg2im7UkE"
      },
      "source": [
        "## 1. Загрузка данных"
      ]
    },
    {
      "cell_type": "code",
      "execution_count": 10,
      "metadata": {
        "id": "V4DlhuVI7W6j"
      },
      "outputs": [],
      "source": [
        "data = pd.read_csv('marketing_campaign.csv', sep='\\t')"
      ]
    },
    {
      "cell_type": "code",
      "execution_count": 11,
      "metadata": {
        "colab": {
          "base_uri": "https://localhost:8080/"
        },
        "id": "74JaX80I7ib4",
        "outputId": "a0da8fca-a8f2-4c22-c624-79e72a209a1f"
      },
      "outputs": [
        {
          "name": "stdout",
          "output_type": "stream",
          "text": [
            "<class 'pandas.core.frame.DataFrame'>\n",
            "RangeIndex: 2240 entries, 0 to 2239\n",
            "Data columns (total 29 columns):\n",
            " #   Column               Non-Null Count  Dtype  \n",
            "---  ------               --------------  -----  \n",
            " 0   ID                   2240 non-null   int64  \n",
            " 1   Year_Birth           2240 non-null   int64  \n",
            " 2   Education            2240 non-null   object \n",
            " 3   Marital_Status       2240 non-null   object \n",
            " 4   Income               2216 non-null   float64\n",
            " 5   Kidhome              2240 non-null   int64  \n",
            " 6   Teenhome             2240 non-null   int64  \n",
            " 7   Dt_Customer          2240 non-null   object \n",
            " 8   Recency              2240 non-null   int64  \n",
            " 9   MntWines             2240 non-null   int64  \n",
            " 10  MntFruits            2240 non-null   int64  \n",
            " 11  MntMeatProducts      2240 non-null   int64  \n",
            " 12  MntFishProducts      2240 non-null   int64  \n",
            " 13  MntSweetProducts     2240 non-null   int64  \n",
            " 14  MntGoldProds         2240 non-null   int64  \n",
            " 15  NumDealsPurchases    2240 non-null   int64  \n",
            " 16  NumWebPurchases      2240 non-null   int64  \n",
            " 17  NumCatalogPurchases  2240 non-null   int64  \n",
            " 18  NumStorePurchases    2240 non-null   int64  \n",
            " 19  NumWebVisitsMonth    2240 non-null   int64  \n",
            " 20  AcceptedCmp3         2240 non-null   int64  \n",
            " 21  AcceptedCmp4         2240 non-null   int64  \n",
            " 22  AcceptedCmp5         2240 non-null   int64  \n",
            " 23  AcceptedCmp1         2240 non-null   int64  \n",
            " 24  AcceptedCmp2         2240 non-null   int64  \n",
            " 25  Complain             2240 non-null   int64  \n",
            " 26  Z_CostContact        2240 non-null   int64  \n",
            " 27  Z_Revenue            2240 non-null   int64  \n",
            " 28  Response             2240 non-null   int64  \n",
            "dtypes: float64(1), int64(25), object(3)\n",
            "memory usage: 507.6+ KB\n"
          ]
        }
      ],
      "source": [
        "data.info()"
      ]
    },
    {
      "cell_type": "markdown",
      "metadata": {
        "id": "v-Y4NzmU7n_q"
      },
      "source": [
        "## 2. Описание и постановка задачи"
      ]
    },
    {
      "cell_type": "code",
      "execution_count": 12,
      "metadata": {
        "colab": {
          "base_uri": "https://localhost:8080/",
          "height": 346
        },
        "id": "DTvQxj867sRy",
        "outputId": "6d34618f-baad-43f9-bbc8-c749eedef391"
      },
      "outputs": [
        {
          "data": {
            "text/html": [
              "<div>\n",
              "<style scoped>\n",
              "    .dataframe tbody tr th:only-of-type {\n",
              "        vertical-align: middle;\n",
              "    }\n",
              "\n",
              "    .dataframe tbody tr th {\n",
              "        vertical-align: top;\n",
              "    }\n",
              "\n",
              "    .dataframe thead th {\n",
              "        text-align: right;\n",
              "    }\n",
              "</style>\n",
              "<table border=\"1\" class=\"dataframe\">\n",
              "  <thead>\n",
              "    <tr style=\"text-align: right;\">\n",
              "      <th></th>\n",
              "      <th>ID</th>\n",
              "      <th>Year_Birth</th>\n",
              "      <th>Income</th>\n",
              "      <th>Kidhome</th>\n",
              "      <th>Teenhome</th>\n",
              "      <th>Recency</th>\n",
              "      <th>MntWines</th>\n",
              "      <th>MntFruits</th>\n",
              "      <th>MntMeatProducts</th>\n",
              "      <th>MntFishProducts</th>\n",
              "      <th>...</th>\n",
              "      <th>NumWebVisitsMonth</th>\n",
              "      <th>AcceptedCmp3</th>\n",
              "      <th>AcceptedCmp4</th>\n",
              "      <th>AcceptedCmp5</th>\n",
              "      <th>AcceptedCmp1</th>\n",
              "      <th>AcceptedCmp2</th>\n",
              "      <th>Complain</th>\n",
              "      <th>Z_CostContact</th>\n",
              "      <th>Z_Revenue</th>\n",
              "      <th>Response</th>\n",
              "    </tr>\n",
              "  </thead>\n",
              "  <tbody>\n",
              "    <tr>\n",
              "      <th>count</th>\n",
              "      <td>2240.000000</td>\n",
              "      <td>2240.000000</td>\n",
              "      <td>2216.000000</td>\n",
              "      <td>2240.000000</td>\n",
              "      <td>2240.000000</td>\n",
              "      <td>2240.000000</td>\n",
              "      <td>2240.000000</td>\n",
              "      <td>2240.000000</td>\n",
              "      <td>2240.000000</td>\n",
              "      <td>2240.000000</td>\n",
              "      <td>...</td>\n",
              "      <td>2240.000000</td>\n",
              "      <td>2240.000000</td>\n",
              "      <td>2240.000000</td>\n",
              "      <td>2240.000000</td>\n",
              "      <td>2240.000000</td>\n",
              "      <td>2240.000000</td>\n",
              "      <td>2240.000000</td>\n",
              "      <td>2240.0</td>\n",
              "      <td>2240.0</td>\n",
              "      <td>2240.000000</td>\n",
              "    </tr>\n",
              "    <tr>\n",
              "      <th>mean</th>\n",
              "      <td>5592.159821</td>\n",
              "      <td>1968.805804</td>\n",
              "      <td>52247.251354</td>\n",
              "      <td>0.444196</td>\n",
              "      <td>0.506250</td>\n",
              "      <td>49.109375</td>\n",
              "      <td>303.935714</td>\n",
              "      <td>26.302232</td>\n",
              "      <td>166.950000</td>\n",
              "      <td>37.525446</td>\n",
              "      <td>...</td>\n",
              "      <td>5.316518</td>\n",
              "      <td>0.072768</td>\n",
              "      <td>0.074554</td>\n",
              "      <td>0.072768</td>\n",
              "      <td>0.064286</td>\n",
              "      <td>0.013393</td>\n",
              "      <td>0.009375</td>\n",
              "      <td>3.0</td>\n",
              "      <td>11.0</td>\n",
              "      <td>0.149107</td>\n",
              "    </tr>\n",
              "    <tr>\n",
              "      <th>std</th>\n",
              "      <td>3246.662198</td>\n",
              "      <td>11.984069</td>\n",
              "      <td>25173.076661</td>\n",
              "      <td>0.538398</td>\n",
              "      <td>0.544538</td>\n",
              "      <td>28.962453</td>\n",
              "      <td>336.597393</td>\n",
              "      <td>39.773434</td>\n",
              "      <td>225.715373</td>\n",
              "      <td>54.628979</td>\n",
              "      <td>...</td>\n",
              "      <td>2.426645</td>\n",
              "      <td>0.259813</td>\n",
              "      <td>0.262728</td>\n",
              "      <td>0.259813</td>\n",
              "      <td>0.245316</td>\n",
              "      <td>0.114976</td>\n",
              "      <td>0.096391</td>\n",
              "      <td>0.0</td>\n",
              "      <td>0.0</td>\n",
              "      <td>0.356274</td>\n",
              "    </tr>\n",
              "    <tr>\n",
              "      <th>min</th>\n",
              "      <td>0.000000</td>\n",
              "      <td>1893.000000</td>\n",
              "      <td>1730.000000</td>\n",
              "      <td>0.000000</td>\n",
              "      <td>0.000000</td>\n",
              "      <td>0.000000</td>\n",
              "      <td>0.000000</td>\n",
              "      <td>0.000000</td>\n",
              "      <td>0.000000</td>\n",
              "      <td>0.000000</td>\n",
              "      <td>...</td>\n",
              "      <td>0.000000</td>\n",
              "      <td>0.000000</td>\n",
              "      <td>0.000000</td>\n",
              "      <td>0.000000</td>\n",
              "      <td>0.000000</td>\n",
              "      <td>0.000000</td>\n",
              "      <td>0.000000</td>\n",
              "      <td>3.0</td>\n",
              "      <td>11.0</td>\n",
              "      <td>0.000000</td>\n",
              "    </tr>\n",
              "    <tr>\n",
              "      <th>25%</th>\n",
              "      <td>2828.250000</td>\n",
              "      <td>1959.000000</td>\n",
              "      <td>35303.000000</td>\n",
              "      <td>0.000000</td>\n",
              "      <td>0.000000</td>\n",
              "      <td>24.000000</td>\n",
              "      <td>23.750000</td>\n",
              "      <td>1.000000</td>\n",
              "      <td>16.000000</td>\n",
              "      <td>3.000000</td>\n",
              "      <td>...</td>\n",
              "      <td>3.000000</td>\n",
              "      <td>0.000000</td>\n",
              "      <td>0.000000</td>\n",
              "      <td>0.000000</td>\n",
              "      <td>0.000000</td>\n",
              "      <td>0.000000</td>\n",
              "      <td>0.000000</td>\n",
              "      <td>3.0</td>\n",
              "      <td>11.0</td>\n",
              "      <td>0.000000</td>\n",
              "    </tr>\n",
              "    <tr>\n",
              "      <th>50%</th>\n",
              "      <td>5458.500000</td>\n",
              "      <td>1970.000000</td>\n",
              "      <td>51381.500000</td>\n",
              "      <td>0.000000</td>\n",
              "      <td>0.000000</td>\n",
              "      <td>49.000000</td>\n",
              "      <td>173.500000</td>\n",
              "      <td>8.000000</td>\n",
              "      <td>67.000000</td>\n",
              "      <td>12.000000</td>\n",
              "      <td>...</td>\n",
              "      <td>6.000000</td>\n",
              "      <td>0.000000</td>\n",
              "      <td>0.000000</td>\n",
              "      <td>0.000000</td>\n",
              "      <td>0.000000</td>\n",
              "      <td>0.000000</td>\n",
              "      <td>0.000000</td>\n",
              "      <td>3.0</td>\n",
              "      <td>11.0</td>\n",
              "      <td>0.000000</td>\n",
              "    </tr>\n",
              "    <tr>\n",
              "      <th>75%</th>\n",
              "      <td>8427.750000</td>\n",
              "      <td>1977.000000</td>\n",
              "      <td>68522.000000</td>\n",
              "      <td>1.000000</td>\n",
              "      <td>1.000000</td>\n",
              "      <td>74.000000</td>\n",
              "      <td>504.250000</td>\n",
              "      <td>33.000000</td>\n",
              "      <td>232.000000</td>\n",
              "      <td>50.000000</td>\n",
              "      <td>...</td>\n",
              "      <td>7.000000</td>\n",
              "      <td>0.000000</td>\n",
              "      <td>0.000000</td>\n",
              "      <td>0.000000</td>\n",
              "      <td>0.000000</td>\n",
              "      <td>0.000000</td>\n",
              "      <td>0.000000</td>\n",
              "      <td>3.0</td>\n",
              "      <td>11.0</td>\n",
              "      <td>0.000000</td>\n",
              "    </tr>\n",
              "    <tr>\n",
              "      <th>max</th>\n",
              "      <td>11191.000000</td>\n",
              "      <td>1996.000000</td>\n",
              "      <td>666666.000000</td>\n",
              "      <td>2.000000</td>\n",
              "      <td>2.000000</td>\n",
              "      <td>99.000000</td>\n",
              "      <td>1493.000000</td>\n",
              "      <td>199.000000</td>\n",
              "      <td>1725.000000</td>\n",
              "      <td>259.000000</td>\n",
              "      <td>...</td>\n",
              "      <td>20.000000</td>\n",
              "      <td>1.000000</td>\n",
              "      <td>1.000000</td>\n",
              "      <td>1.000000</td>\n",
              "      <td>1.000000</td>\n",
              "      <td>1.000000</td>\n",
              "      <td>1.000000</td>\n",
              "      <td>3.0</td>\n",
              "      <td>11.0</td>\n",
              "      <td>1.000000</td>\n",
              "    </tr>\n",
              "  </tbody>\n",
              "</table>\n",
              "<p>8 rows × 26 columns</p>\n",
              "</div>"
            ],
            "text/plain": [
              "                 ID   Year_Birth         Income      Kidhome     Teenhome  \\\n",
              "count   2240.000000  2240.000000    2216.000000  2240.000000  2240.000000   \n",
              "mean    5592.159821  1968.805804   52247.251354     0.444196     0.506250   \n",
              "std     3246.662198    11.984069   25173.076661     0.538398     0.544538   \n",
              "min        0.000000  1893.000000    1730.000000     0.000000     0.000000   \n",
              "25%     2828.250000  1959.000000   35303.000000     0.000000     0.000000   \n",
              "50%     5458.500000  1970.000000   51381.500000     0.000000     0.000000   \n",
              "75%     8427.750000  1977.000000   68522.000000     1.000000     1.000000   \n",
              "max    11191.000000  1996.000000  666666.000000     2.000000     2.000000   \n",
              "\n",
              "           Recency     MntWines    MntFruits  MntMeatProducts  \\\n",
              "count  2240.000000  2240.000000  2240.000000      2240.000000   \n",
              "mean     49.109375   303.935714    26.302232       166.950000   \n",
              "std      28.962453   336.597393    39.773434       225.715373   \n",
              "min       0.000000     0.000000     0.000000         0.000000   \n",
              "25%      24.000000    23.750000     1.000000        16.000000   \n",
              "50%      49.000000   173.500000     8.000000        67.000000   \n",
              "75%      74.000000   504.250000    33.000000       232.000000   \n",
              "max      99.000000  1493.000000   199.000000      1725.000000   \n",
              "\n",
              "       MntFishProducts  ...  NumWebVisitsMonth  AcceptedCmp3  AcceptedCmp4  \\\n",
              "count      2240.000000  ...        2240.000000   2240.000000   2240.000000   \n",
              "mean         37.525446  ...           5.316518      0.072768      0.074554   \n",
              "std          54.628979  ...           2.426645      0.259813      0.262728   \n",
              "min           0.000000  ...           0.000000      0.000000      0.000000   \n",
              "25%           3.000000  ...           3.000000      0.000000      0.000000   \n",
              "50%          12.000000  ...           6.000000      0.000000      0.000000   \n",
              "75%          50.000000  ...           7.000000      0.000000      0.000000   \n",
              "max         259.000000  ...          20.000000      1.000000      1.000000   \n",
              "\n",
              "       AcceptedCmp5  AcceptedCmp1  AcceptedCmp2     Complain  Z_CostContact  \\\n",
              "count   2240.000000   2240.000000   2240.000000  2240.000000         2240.0   \n",
              "mean       0.072768      0.064286      0.013393     0.009375            3.0   \n",
              "std        0.259813      0.245316      0.114976     0.096391            0.0   \n",
              "min        0.000000      0.000000      0.000000     0.000000            3.0   \n",
              "25%        0.000000      0.000000      0.000000     0.000000            3.0   \n",
              "50%        0.000000      0.000000      0.000000     0.000000            3.0   \n",
              "75%        0.000000      0.000000      0.000000     0.000000            3.0   \n",
              "max        1.000000      1.000000      1.000000     1.000000            3.0   \n",
              "\n",
              "       Z_Revenue     Response  \n",
              "count     2240.0  2240.000000  \n",
              "mean        11.0     0.149107  \n",
              "std          0.0     0.356274  \n",
              "min         11.0     0.000000  \n",
              "25%         11.0     0.000000  \n",
              "50%         11.0     0.000000  \n",
              "75%         11.0     0.000000  \n",
              "max         11.0     1.000000  \n",
              "\n",
              "[8 rows x 26 columns]"
            ]
          },
          "execution_count": 12,
          "metadata": {},
          "output_type": "execute_result"
        }
      ],
      "source": [
        "data.describe()"
      ]
    },
    {
      "cell_type": "code",
      "execution_count": 13,
      "metadata": {
        "colab": {
          "base_uri": "https://localhost:8080/"
        },
        "id": "s34ct-Ne7va-",
        "outputId": "a8b0d2c5-a5e7-45a6-8be0-b59e36ef4997"
      },
      "outputs": [
        {
          "name": "stdout",
          "output_type": "stream",
          "text": [
            "<class 'pandas.core.frame.DataFrame'>\n",
            "RangeIndex: 2240 entries, 0 to 2239\n",
            "Data columns (total 29 columns):\n",
            " #   Column               Non-Null Count  Dtype  \n",
            "---  ------               --------------  -----  \n",
            " 0   ID                   2240 non-null   int64  \n",
            " 1   Year_Birth           2240 non-null   int64  \n",
            " 2   Education            2240 non-null   object \n",
            " 3   Marital_Status       2240 non-null   object \n",
            " 4   Income               2216 non-null   float64\n",
            " 5   Kidhome              2240 non-null   int64  \n",
            " 6   Teenhome             2240 non-null   int64  \n",
            " 7   Dt_Customer          2240 non-null   object \n",
            " 8   Recency              2240 non-null   int64  \n",
            " 9   MntWines             2240 non-null   int64  \n",
            " 10  MntFruits            2240 non-null   int64  \n",
            " 11  MntMeatProducts      2240 non-null   int64  \n",
            " 12  MntFishProducts      2240 non-null   int64  \n",
            " 13  MntSweetProducts     2240 non-null   int64  \n",
            " 14  MntGoldProds         2240 non-null   int64  \n",
            " 15  NumDealsPurchases    2240 non-null   int64  \n",
            " 16  NumWebPurchases      2240 non-null   int64  \n",
            " 17  NumCatalogPurchases  2240 non-null   int64  \n",
            " 18  NumStorePurchases    2240 non-null   int64  \n",
            " 19  NumWebVisitsMonth    2240 non-null   int64  \n",
            " 20  AcceptedCmp3         2240 non-null   int64  \n",
            " 21  AcceptedCmp4         2240 non-null   int64  \n",
            " 22  AcceptedCmp5         2240 non-null   int64  \n",
            " 23  AcceptedCmp1         2240 non-null   int64  \n",
            " 24  AcceptedCmp2         2240 non-null   int64  \n",
            " 25  Complain             2240 non-null   int64  \n",
            " 26  Z_CostContact        2240 non-null   int64  \n",
            " 27  Z_Revenue            2240 non-null   int64  \n",
            " 28  Response             2240 non-null   int64  \n",
            "dtypes: float64(1), int64(25), object(3)\n",
            "memory usage: 507.6+ KB\n"
          ]
        }
      ],
      "source": [
        "data.info()"
      ]
    },
    {
      "cell_type": "markdown",
      "metadata": {
        "id": "Pd2tLTyE7wJS"
      },
      "source": [
        "Исходя из представленных колонок моджно сделать, что идеальной задачей для такого датасета является классификация - будем прогнозировать значение **'response'** в качестве целевой переменной."
      ]
    },
    {
      "cell_type": "markdown",
      "metadata": {
        "id": "q0CWKDxO7zJS"
      },
      "source": [
        "## 3. Предобработка данных"
      ]
    },
    {
      "cell_type": "markdown",
      "metadata": {
        "id": "R4n3xxNU72_R"
      },
      "source": [
        "### 3.1 Разбиение даннных на тренировочную и тестовую выборки"
      ]
    },
    {
      "cell_type": "code",
      "execution_count": 14,
      "metadata": {
        "id": "Xs8xGGBx80tb"
      },
      "outputs": [],
      "source": [
        "X = data.drop('Response', axis=1)\n",
        "y = data['Response']\n",
        "X_train, X_test, y_train, y_test = train_test_split(X, y, test_size=0.2, random_state=42)"
      ]
    },
    {
      "cell_type": "markdown",
      "metadata": {
        "id": "n0ZdSxmC75Fz"
      },
      "source": [
        "### 3.2 Проверка пропусков в данных"
      ]
    },
    {
      "cell_type": "code",
      "execution_count": 15,
      "metadata": {
        "colab": {
          "base_uri": "https://localhost:8080/"
        },
        "id": "Bvc_EU3J9DP2",
        "outputId": "c4e779f8-fd42-4aef-f39e-fde037f3b4f1"
      },
      "outputs": [
        {
          "name": "stdout",
          "output_type": "stream",
          "text": [
            "ID                      0\n",
            "Year_Birth              0\n",
            "Education               0\n",
            "Marital_Status          0\n",
            "Income                 19\n",
            "Kidhome                 0\n",
            "Teenhome                0\n",
            "Dt_Customer             0\n",
            "Recency                 0\n",
            "MntWines                0\n",
            "MntFruits               0\n",
            "MntMeatProducts         0\n",
            "MntFishProducts         0\n",
            "MntSweetProducts        0\n",
            "MntGoldProds            0\n",
            "NumDealsPurchases       0\n",
            "NumWebPurchases         0\n",
            "NumCatalogPurchases     0\n",
            "NumStorePurchases       0\n",
            "NumWebVisitsMonth       0\n",
            "AcceptedCmp3            0\n",
            "AcceptedCmp4            0\n",
            "AcceptedCmp5            0\n",
            "AcceptedCmp1            0\n",
            "AcceptedCmp2            0\n",
            "Complain                0\n",
            "Z_CostContact           0\n",
            "Z_Revenue               0\n",
            "dtype: int64\n",
            "\n",
            "@@@@@@@@@@@@@@@@@@@@@@@@@\n",
            "\n",
            "ID                     0\n",
            "Year_Birth             0\n",
            "Education              0\n",
            "Marital_Status         0\n",
            "Income                 5\n",
            "Kidhome                0\n",
            "Teenhome               0\n",
            "Dt_Customer            0\n",
            "Recency                0\n",
            "MntWines               0\n",
            "MntFruits              0\n",
            "MntMeatProducts        0\n",
            "MntFishProducts        0\n",
            "MntSweetProducts       0\n",
            "MntGoldProds           0\n",
            "NumDealsPurchases      0\n",
            "NumWebPurchases        0\n",
            "NumCatalogPurchases    0\n",
            "NumStorePurchases      0\n",
            "NumWebVisitsMonth      0\n",
            "AcceptedCmp3           0\n",
            "AcceptedCmp4           0\n",
            "AcceptedCmp5           0\n",
            "AcceptedCmp1           0\n",
            "AcceptedCmp2           0\n",
            "Complain               0\n",
            "Z_CostContact          0\n",
            "Z_Revenue              0\n",
            "dtype: int64\n"
          ]
        }
      ],
      "source": [
        "print(X_train.isnull().sum())\n",
        "print(\"\\n \\n\")\n",
        "print(X_test.isnull().sum())\n",
        "\n",
        "numeric_features = X_train.select_dtypes(include=['int64', 'float64']).columns\n",
        "categorical_features = X_train.select_dtypes(include=['object']).columns"
      ]
    },
    {
      "cell_type": "markdown",
      "metadata": {
        "id": "e2vkVC1t7-VV"
      },
      "source": [
        "### 3.3 Трансформация данных"
      ]
    },
    {
      "cell_type": "code",
      "execution_count": 16,
      "metadata": {
        "id": "YEzxGBCE1CNO"
      },
      "outputs": [],
      "source": [
        "numeric_transformer = Pipeline(steps=[\n",
        "    ('imputer', SimpleImputer(strategy='median')),\n",
        "    ('scaler', StandardScaler())\n",
        "])\n",
        "\n",
        "categorical_transformer = Pipeline(steps=[\n",
        "    ('imputer', SimpleImputer(strategy='most_frequent')),\n",
        "    ('onehot', OneHotEncoder(handle_unknown='ignore'))\n",
        "])\n",
        "\n",
        "preprocessor = ColumnTransformer(\n",
        "    transformers=[\n",
        "        ('num', numeric_transformer, numeric_features),\n",
        "        ('cat', categorical_transformer, categorical_features)\n",
        "    ])\n",
        "\n",
        "X_train = preprocessor.fit_transform(X_train)\n",
        "X_test = preprocessor.transform(X_test)"
      ]
    },
    {
      "cell_type": "markdown",
      "metadata": {
        "id": "EAVg5BG5998B"
      },
      "source": [
        "## 4. Оформление данных в виде класса Dataset"
      ]
    },
    {
      "cell_type": "code",
      "execution_count": 17,
      "metadata": {
        "id": "3k3qESI2_As7"
      },
      "outputs": [],
      "source": [
        "class CustomDataset(Dataset):\n",
        "    def __init__(self, X, y):\n",
        "        self.X = X\n",
        "        self.y = torch.tensor(y.values, dtype=torch.float32)\n",
        "\n",
        "    def __len__(self):\n",
        "        return self.X.shape[0]\n",
        "\n",
        "    def __getitem__(self, idx):\n",
        "        X_row = self.X[idx].toarray()\n",
        "        X_tensor = torch.tensor(X_row, dtype=torch.float32)\n",
        "        return X_tensor, self.y[idx]\n",
        "\n",
        "train_dataset = CustomDataset(X_train, y_train)\n",
        "test_dataset = CustomDataset(X_test, y_test)\n",
        "\n",
        "train_loader = DataLoader(train_dataset, batch_size=32, shuffle=True)\n",
        "test_loader = DataLoader(test_dataset, batch_size=32, shuffle=False)"
      ]
    },
    {
      "cell_type": "markdown",
      "metadata": {
        "id": "cFnJHq2qBdqr"
      },
      "source": [
        "## 5. Тренировка моделей"
      ]
    },
    {
      "cell_type": "markdown",
      "metadata": {
        "id": "gjj8Ga7vBlnO"
      },
      "source": [
        "### 5.1 Однослойная нейронка"
      ]
    },
    {
      "cell_type": "code",
      "execution_count": 18,
      "metadata": {
        "colab": {
          "base_uri": "https://localhost:8080/"
        },
        "id": "4lU5GQxPBkZN",
        "outputId": "fcdc3805-b7af-406a-ae97-3813ce969ec2"
      },
      "outputs": [
        {
          "name": "stdout",
          "output_type": "stream",
          "text": [
            "Epoch 1/50, Train Loss: 0.6357, Test Loss: 0.5889\n",
            "Epoch 2/50, Train Loss: 0.5344, Test Loss: 0.5196\n",
            "Epoch 3/50, Train Loss: 0.4713, Test Loss: 0.4739\n",
            "Epoch 4/50, Train Loss: 0.4289, Test Loss: 0.4422\n",
            "Epoch 5/50, Train Loss: 0.3988, Test Loss: 0.4200\n",
            "Epoch 6/50, Train Loss: 0.3769, Test Loss: 0.4033\n",
            "Epoch 7/50, Train Loss: 0.3604, Test Loss: 0.3912\n",
            "Epoch 8/50, Train Loss: 0.3476, Test Loss: 0.3819\n",
            "Epoch 9/50, Train Loss: 0.3374, Test Loss: 0.3746\n",
            "Epoch 10/50, Train Loss: 0.3292, Test Loss: 0.3689\n",
            "Epoch 11/50, Train Loss: 0.3223, Test Loss: 0.3642\n",
            "Epoch 12/50, Train Loss: 0.3167, Test Loss: 0.3604\n",
            "Epoch 13/50, Train Loss: 0.3119, Test Loss: 0.3574\n",
            "Epoch 14/50, Train Loss: 0.3077, Test Loss: 0.3548\n",
            "Epoch 15/50, Train Loss: 0.3041, Test Loss: 0.3525\n",
            "Epoch 16/50, Train Loss: 0.3010, Test Loss: 0.3504\n",
            "Epoch 17/50, Train Loss: 0.2982, Test Loss: 0.3488\n",
            "Epoch 18/50, Train Loss: 0.2958, Test Loss: 0.3474\n",
            "Epoch 19/50, Train Loss: 0.2936, Test Loss: 0.3460\n",
            "Epoch 20/50, Train Loss: 0.2916, Test Loss: 0.3450\n",
            "Epoch 21/50, Train Loss: 0.2898, Test Loss: 0.3441\n",
            "Epoch 22/50, Train Loss: 0.2882, Test Loss: 0.3433\n",
            "Epoch 23/50, Train Loss: 0.2866, Test Loss: 0.3425\n",
            "Epoch 24/50, Train Loss: 0.2853, Test Loss: 0.3417\n",
            "Epoch 25/50, Train Loss: 0.2840, Test Loss: 0.3410\n",
            "Epoch 26/50, Train Loss: 0.2829, Test Loss: 0.3405\n",
            "Epoch 27/50, Train Loss: 0.2818, Test Loss: 0.3400\n",
            "Epoch 28/50, Train Loss: 0.2808, Test Loss: 0.3396\n",
            "Epoch 29/50, Train Loss: 0.2798, Test Loss: 0.3392\n",
            "Epoch 30/50, Train Loss: 0.2789, Test Loss: 0.3388\n",
            "Epoch 31/50, Train Loss: 0.2781, Test Loss: 0.3384\n",
            "Epoch 32/50, Train Loss: 0.2774, Test Loss: 0.3380\n",
            "Epoch 33/50, Train Loss: 0.2766, Test Loss: 0.3377\n",
            "Epoch 34/50, Train Loss: 0.2759, Test Loss: 0.3373\n",
            "Epoch 35/50, Train Loss: 0.2752, Test Loss: 0.3371\n",
            "Epoch 36/50, Train Loss: 0.2746, Test Loss: 0.3370\n",
            "Epoch 37/50, Train Loss: 0.2740, Test Loss: 0.3368\n",
            "Epoch 38/50, Train Loss: 0.2735, Test Loss: 0.3366\n",
            "Epoch 39/50, Train Loss: 0.2729, Test Loss: 0.3363\n",
            "Epoch 40/50, Train Loss: 0.2724, Test Loss: 0.3360\n",
            "Epoch 41/50, Train Loss: 0.2719, Test Loss: 0.3359\n",
            "Epoch 42/50, Train Loss: 0.2715, Test Loss: 0.3358\n",
            "Epoch 43/50, Train Loss: 0.2710, Test Loss: 0.3356\n",
            "Epoch 44/50, Train Loss: 0.2706, Test Loss: 0.3355\n",
            "Epoch 45/50, Train Loss: 0.2702, Test Loss: 0.3354\n",
            "Epoch 46/50, Train Loss: 0.2698, Test Loss: 0.3353\n",
            "Epoch 47/50, Train Loss: 0.2695, Test Loss: 0.3351\n",
            "Epoch 48/50, Train Loss: 0.2691, Test Loss: 0.3350\n",
            "Epoch 49/50, Train Loss: 0.2687, Test Loss: 0.3348\n",
            "Epoch 50/50, Train Loss: 0.2684, Test Loss: 0.3348\n"
          ]
        }
      ],
      "source": [
        "class SimpleNN(nn.Module):\n",
        "    def __init__(self, input_dim):\n",
        "        super(SimpleNN, self).__init__()\n",
        "        self.fc = nn.Linear(input_dim, 1)\n",
        "\n",
        "    def forward(self, x):\n",
        "        return torch.sigmoid(self.fc(x))\n",
        "\n",
        "input_dim = X_train.shape[1]\n",
        "model = SimpleNN(input_dim)\n",
        "criterion = nn.BCELoss()\n",
        "optimizer = optim.SGD(model.parameters(), lr=0.01)\n",
        "\n",
        "def train_model(model, criterion, optimizer, train_loader, test_loader, epochs=50):\n",
        "    train_losses = []\n",
        "    test_losses = []\n",
        "    for epoch in range(epochs):\n",
        "        model.train()\n",
        "        running_loss = 0.0\n",
        "        for inputs, labels in train_loader:\n",
        "            optimizer.zero_grad()\n",
        "            outputs = model(inputs).squeeze()\n",
        "            loss = criterion(outputs, labels)\n",
        "            loss.backward()\n",
        "            optimizer.step()\n",
        "            running_loss += loss.item()\n",
        "\n",
        "        train_losses.append(running_loss / len(train_loader))\n",
        "\n",
        "        model.eval()\n",
        "        test_loss = 0.0\n",
        "        with torch.no_grad():\n",
        "            for inputs, labels in test_loader:\n",
        "                outputs = model(inputs).squeeze()\n",
        "                loss = criterion(outputs, labels)\n",
        "                test_loss += loss.item()\n",
        "\n",
        "        test_losses.append(test_loss / len(test_loader))\n",
        "        print(f'Epoch {epoch+1}/{epochs}, Train Loss: {train_losses[-1]:.4f}, Test Loss: {test_losses[-1]:.4f}')\n",
        "\n",
        "    return train_losses, test_losses\n",
        "\n",
        "train_losses, test_losses = train_model(model, criterion, optimizer, train_loader, test_loader)\n"
      ]
    },
    {
      "cell_type": "code",
      "execution_count": 19,
      "metadata": {
        "colab": {
          "base_uri": "https://localhost:8080/",
          "height": 449
        },
        "id": "cP0F-R3WDB1d",
        "outputId": "37a7fb81-0813-45b7-9c5f-0d1924b2c944"
      },
      "outputs": [
        {
          "data": {
            "image/png": "[encoded data removed]",
            "text/plain": [
              "<Figure size 640x480 with 1 Axes>"
            ]
          },
          "metadata": {},
          "output_type": "display_data"
        }
      ],
      "source": [
        "plt.plot(train_losses, label='Train Loss')\n",
        "plt.plot(test_losses, label='Test Loss')\n",
        "plt.xlabel('Epoch')\n",
        "plt.ylabel('Loss')\n",
        "plt.legend()\n",
        "plt.show()"
      ]
    },
    {
      "cell_type": "code",
      "execution_count": 20,
      "metadata": {
        "colab": {
          "base_uri": "https://localhost:8080/"
        },
        "id": "Szjf2s71Dn-r",
        "outputId": "cceb3096-3a8f-41f7-dbc9-bd43a4dcb84d"
      },
      "outputs": [
        {
          "name": "stdout",
          "output_type": "stream",
          "text": [
            "Train Accuracy: 0.8951, Train MAE: 0.1049\n",
            "Test Accuracy: 0.8728, Test MAE: 0.1272\n"
          ]
        }
      ],
      "source": [
        "def evaluate_model(model, loader):\n",
        "    model.eval()\n",
        "    all_labels = []\n",
        "    all_preds = []\n",
        "    with torch.no_grad():\n",
        "        for inputs, labels in loader:\n",
        "            outputs = model(inputs).squeeze()\n",
        "            preds = (outputs > 0.5).float()\n",
        "            all_labels.extend(labels.numpy())\n",
        "            all_preds.extend(preds.numpy())\n",
        "    accuracy = accuracy_score(all_labels, all_preds)\n",
        "    mae = mean_absolute_error(all_labels, all_preds)\n",
        "    return accuracy, mae\n",
        "\n",
        "train_accuracy, train_mae = evaluate_model(model, train_loader)\n",
        "test_accuracy, test_mae = evaluate_model(model, test_loader)\n",
        "\n",
        "print(f'Train Accuracy: {train_accuracy:.4f}, Train MAE: {train_mae:.4f}')\n",
        "print(f'Test Accuracy: {test_accuracy:.4f}, Test MAE: {test_mae:.4f}')"
      ]
    },
    {
      "cell_type": "markdown",
      "metadata": {
        "id": "x-KcmdONB66m"
      },
      "source": [
        "### 5.2 Нейросеть с 1 скрытым слоем. Оптимизатор Adam"
      ]
    },
    {
      "cell_type": "code",
      "execution_count": 21,
      "metadata": {
        "colab": {
          "base_uri": "https://localhost:8080/"
        },
        "id": "-WZ35FeJCAiI",
        "outputId": "d8312fdd-6599-4bc0-99d9-d2705255350f"
      },
      "outputs": [
        {
          "name": "stdout",
          "output_type": "stream",
          "text": [
            "Epoch 1/50, Train Loss: 0.5273, Test Loss: 0.4414\n",
            "Epoch 2/50, Train Loss: 0.3508, Test Loss: 0.3583\n",
            "Epoch 3/50, Train Loss: 0.2818, Test Loss: 0.3343\n",
            "Epoch 4/50, Train Loss: 0.2525, Test Loss: 0.3276\n",
            "Epoch 5/50, Train Loss: 0.2320, Test Loss: 0.3214\n",
            "Epoch 6/50, Train Loss: 0.2158, Test Loss: 0.3211\n",
            "Epoch 7/50, Train Loss: 0.2018, Test Loss: 0.3186\n",
            "Epoch 8/50, Train Loss: 0.1901, Test Loss: 0.3183\n",
            "Epoch 9/50, Train Loss: 0.1769, Test Loss: 0.3197\n",
            "Epoch 10/50, Train Loss: 0.1664, Test Loss: 0.3253\n",
            "Epoch 11/50, Train Loss: 0.1540, Test Loss: 0.3198\n",
            "Epoch 12/50, Train Loss: 0.1425, Test Loss: 0.3232\n",
            "Epoch 13/50, Train Loss: 0.1303, Test Loss: 0.3300\n",
            "Epoch 14/50, Train Loss: 0.1213, Test Loss: 0.3337\n",
            "Epoch 15/50, Train Loss: 0.1135, Test Loss: 0.3376\n",
            "Epoch 16/50, Train Loss: 0.1038, Test Loss: 0.3384\n",
            "Epoch 17/50, Train Loss: 0.0974, Test Loss: 0.3460\n",
            "Epoch 18/50, Train Loss: 0.0899, Test Loss: 0.3512\n",
            "Epoch 19/50, Train Loss: 0.0840, Test Loss: 0.3624\n",
            "Epoch 20/50, Train Loss: 0.0785, Test Loss: 0.3618\n",
            "Epoch 21/50, Train Loss: 0.0720, Test Loss: 0.3705\n",
            "Epoch 22/50, Train Loss: 0.0680, Test Loss: 0.3653\n",
            "Epoch 23/50, Train Loss: 0.0636, Test Loss: 0.3740\n",
            "Epoch 24/50, Train Loss: 0.0598, Test Loss: 0.3772\n",
            "Epoch 25/50, Train Loss: 0.0561, Test Loss: 0.3890\n",
            "Epoch 26/50, Train Loss: 0.0530, Test Loss: 0.3913\n",
            "Epoch 27/50, Train Loss: 0.0502, Test Loss: 0.3959\n",
            "Epoch 28/50, Train Loss: 0.0471, Test Loss: 0.4042\n",
            "Epoch 29/50, Train Loss: 0.0449, Test Loss: 0.4074\n",
            "Epoch 30/50, Train Loss: 0.0420, Test Loss: 0.4171\n",
            "Epoch 31/50, Train Loss: 0.0397, Test Loss: 0.4185\n",
            "Epoch 32/50, Train Loss: 0.0380, Test Loss: 0.4337\n",
            "Epoch 33/50, Train Loss: 0.0358, Test Loss: 0.4307\n",
            "Epoch 34/50, Train Loss: 0.0343, Test Loss: 0.4402\n",
            "Epoch 35/50, Train Loss: 0.0333, Test Loss: 0.4446\n",
            "Epoch 36/50, Train Loss: 0.0311, Test Loss: 0.4529\n",
            "Epoch 37/50, Train Loss: 0.0304, Test Loss: 0.4548\n",
            "Epoch 38/50, Train Loss: 0.0294, Test Loss: 0.4620\n",
            "Epoch 39/50, Train Loss: 0.0274, Test Loss: 0.4730\n",
            "Epoch 40/50, Train Loss: 0.0273, Test Loss: 0.4816\n",
            "Epoch 41/50, Train Loss: 0.0252, Test Loss: 0.4862\n",
            "Epoch 42/50, Train Loss: 0.0242, Test Loss: 0.4858\n",
            "Epoch 43/50, Train Loss: 0.0243, Test Loss: 0.4988\n",
            "Epoch 44/50, Train Loss: 0.0223, Test Loss: 0.4967\n",
            "Epoch 45/50, Train Loss: 0.0217, Test Loss: 0.5099\n",
            "Epoch 46/50, Train Loss: 0.0214, Test Loss: 0.5063\n",
            "Epoch 47/50, Train Loss: 0.0215, Test Loss: 0.5079\n",
            "Epoch 48/50, Train Loss: 0.0197, Test Loss: 0.5202\n",
            "Epoch 49/50, Train Loss: 0.0197, Test Loss: 0.5258\n",
            "Epoch 50/50, Train Loss: 0.0188, Test Loss: 0.5283\n"
          ]
        }
      ],
      "source": [
        "class MediumNN(nn.Module):\n",
        "    def __init__(self, input_dim):\n",
        "        super(MediumNN, self).__init__()\n",
        "        self.fc1 = nn.Linear(input_dim, 64)\n",
        "        self.fc2 = nn.Linear(64, 1)\n",
        "\n",
        "    def forward(self, x):\n",
        "        x = torch.relu(self.fc1(x))\n",
        "        return torch.sigmoid(self.fc2(x))\n",
        "\n",
        "model = MediumNN(input_dim)\n",
        "criterion = nn.BCELoss()\n",
        "optimizer = optim.Adam(model.parameters(), lr=0.001)\n",
        "\n",
        "train_losses, test_losses = train_model(model, criterion, optimizer, train_loader, test_loader)"
      ]
    },
    {
      "cell_type": "code",
      "execution_count": 22,
      "metadata": {
        "colab": {
          "base_uri": "https://localhost:8080/",
          "height": 449
        },
        "id": "Ih06NKZlDAp6",
        "outputId": "127ff69f-6e16-490f-d610-cf43795f74ac"
      },
      "outputs": [
        {
          "data": {
            "image/png": "[encoded data removed]",
            "text/plain": [
              "<Figure size 640x480 with 1 Axes>"
            ]
          },
          "metadata": {},
          "output_type": "display_data"
        }
      ],
      "source": [
        "plt.plot(train_losses, label='Train Loss')\n",
        "plt.plot(test_losses, label='Test Loss')\n",
        "plt.xlabel('Epoch')\n",
        "plt.ylabel('Loss')\n",
        "plt.legend()\n",
        "plt.show()"
      ]
    },
    {
      "cell_type": "code",
      "execution_count": 23,
      "metadata": {
        "colab": {
          "base_uri": "https://localhost:8080/"
        },
        "id": "K3SYQo37Dl3v",
        "outputId": "12f0c985-750a-4907-e217-df60b510d7f2"
      },
      "outputs": [
        {
          "name": "stdout",
          "output_type": "stream",
          "text": [
            "Train Accuracy: 0.9961, Train MAE: 0.0039\n",
            "Test Accuracy: 0.8482, Test MAE: 0.1518\n"
          ]
        }
      ],
      "source": [
        "def evaluate_model(model, loader):\n",
        "    model.eval()\n",
        "    all_labels = []\n",
        "    all_preds = []\n",
        "    with torch.no_grad():\n",
        "        for inputs, labels in loader:\n",
        "            outputs = model(inputs).squeeze()\n",
        "            preds = (outputs > 0.5).float()\n",
        "            all_labels.extend(labels.numpy())\n",
        "            all_preds.extend(preds.numpy())\n",
        "    accuracy = accuracy_score(all_labels, all_preds)\n",
        "    mae = mean_absolute_error(all_labels, all_preds)\n",
        "    return accuracy, mae\n",
        "\n",
        "train_accuracy, train_mae = evaluate_model(model, train_loader)\n",
        "test_accuracy, test_mae = evaluate_model(model, test_loader)\n",
        "\n",
        "print(f'Train Accuracy: {train_accuracy:.4f}, Train MAE: {train_mae:.4f}')\n",
        "print(f'Test Accuracy: {test_accuracy:.4f}, Test MAE: {test_mae:.4f}')"
      ]
    },
    {
      "cell_type": "markdown",
      "metadata": {
        "id": "oav66KoPCIx2"
      },
      "source": [
        "### 5.3 Нейросеть с 3+ скрытыми слоями. Оптимизатор Adam"
      ]
    },
    {
      "cell_type": "code",
      "execution_count": 24,
      "metadata": {
        "colab": {
          "base_uri": "https://localhost:8080/"
        },
        "id": "st_VWmnsCPFn",
        "outputId": "80c126a4-f702-4ed4-86c3-1692fff490b4"
      },
      "outputs": [
        {
          "name": "stdout",
          "output_type": "stream",
          "text": [
            "Epoch 1/50, Train Loss: 0.5197, Test Loss: 0.3745\n",
            "Epoch 2/50, Train Loss: 0.2803, Test Loss: 0.3292\n",
            "Epoch 3/50, Train Loss: 0.2334, Test Loss: 0.3324\n",
            "Epoch 4/50, Train Loss: 0.1973, Test Loss: 0.3479\n",
            "Epoch 5/50, Train Loss: 0.1573, Test Loss: 0.3399\n",
            "Epoch 6/50, Train Loss: 0.1189, Test Loss: 0.3872\n",
            "Epoch 7/50, Train Loss: 0.0776, Test Loss: 0.4073\n",
            "Epoch 8/50, Train Loss: 0.0595, Test Loss: 0.4421\n",
            "Epoch 9/50, Train Loss: 0.0430, Test Loss: 0.4748\n",
            "Epoch 10/50, Train Loss: 0.0313, Test Loss: 0.5206\n",
            "Epoch 11/50, Train Loss: 0.0261, Test Loss: 0.5380\n",
            "Epoch 12/50, Train Loss: 0.0272, Test Loss: 0.5595\n",
            "Epoch 13/50, Train Loss: 0.0271, Test Loss: 0.5897\n",
            "Epoch 14/50, Train Loss: 0.0294, Test Loss: 0.5867\n",
            "Epoch 15/50, Train Loss: 0.0179, Test Loss: 0.6297\n",
            "Epoch 16/50, Train Loss: 0.0174, Test Loss: 0.5871\n",
            "Epoch 17/50, Train Loss: 0.0180, Test Loss: 0.6558\n",
            "Epoch 18/50, Train Loss: 0.0172, Test Loss: 0.6020\n",
            "Epoch 19/50, Train Loss: 0.0171, Test Loss: 0.6970\n",
            "Epoch 20/50, Train Loss: 0.0158, Test Loss: 0.6170\n",
            "Epoch 21/50, Train Loss: 0.0156, Test Loss: 0.7063\n",
            "Epoch 22/50, Train Loss: 0.0207, Test Loss: 0.7176\n",
            "Epoch 23/50, Train Loss: 0.0154, Test Loss: 0.6749\n",
            "Epoch 24/50, Train Loss: 0.0119, Test Loss: 0.7048\n",
            "Epoch 25/50, Train Loss: 0.0171, Test Loss: 0.6347\n",
            "Epoch 26/50, Train Loss: 0.0114, Test Loss: 0.6304\n",
            "Epoch 27/50, Train Loss: 0.0136, Test Loss: 0.6936\n",
            "Epoch 28/50, Train Loss: 0.0135, Test Loss: 0.6899\n",
            "Epoch 29/50, Train Loss: 0.0127, Test Loss: 0.6392\n",
            "Epoch 30/50, Train Loss: 0.0100, Test Loss: 0.6513\n",
            "Epoch 31/50, Train Loss: 0.0119, Test Loss: 0.6647\n",
            "Epoch 32/50, Train Loss: 0.0109, Test Loss: 0.6603\n",
            "Epoch 33/50, Train Loss: 0.0136, Test Loss: 0.6945\n",
            "Epoch 34/50, Train Loss: 0.0073, Test Loss: 0.7127\n",
            "Epoch 35/50, Train Loss: 0.0090, Test Loss: 0.6919\n",
            "Epoch 36/50, Train Loss: 0.0114, Test Loss: 0.6912\n",
            "Epoch 37/50, Train Loss: 0.0134, Test Loss: 0.6936\n",
            "Epoch 38/50, Train Loss: 0.0106, Test Loss: 0.7289\n",
            "Epoch 39/50, Train Loss: 0.0080, Test Loss: 0.7980\n",
            "Epoch 40/50, Train Loss: 0.0091, Test Loss: 0.7401\n",
            "Epoch 41/50, Train Loss: 0.0077, Test Loss: 0.7584\n",
            "Epoch 42/50, Train Loss: 0.0077, Test Loss: 0.7482\n",
            "Epoch 43/50, Train Loss: 0.0069, Test Loss: 0.8134\n",
            "Epoch 44/50, Train Loss: 0.0074, Test Loss: 0.8048\n",
            "Epoch 45/50, Train Loss: 0.0067, Test Loss: 0.7919\n",
            "Epoch 46/50, Train Loss: 0.0080, Test Loss: 0.7866\n",
            "Epoch 47/50, Train Loss: 0.0069, Test Loss: 0.7831\n",
            "Epoch 48/50, Train Loss: 0.0070, Test Loss: 0.7758\n",
            "Epoch 49/50, Train Loss: 0.0061, Test Loss: 0.7964\n",
            "Epoch 50/50, Train Loss: 0.0150, Test Loss: 0.7605\n"
          ]
        }
      ],
      "source": [
        "class ComplexNN(nn.Module):\n",
        "    def __init__(self, input_dim):\n",
        "        super(ComplexNN, self).__init__()\n",
        "        self.fc1 = nn.Linear(input_dim, 128)\n",
        "        self.fc2 = nn.Linear(128, 64)\n",
        "        self.fc3 = nn.Linear(64, 32)\n",
        "        self.fc4 = nn.Linear(32, 1)\n",
        "\n",
        "    def forward(self, x):\n",
        "        x = torch.relu(self.fc1(x))\n",
        "        x = torch.relu(self.fc2(x))\n",
        "        x = torch.relu(self.fc3(x))\n",
        "        return torch.sigmoid(self.fc4(x))\n",
        "\n",
        "model = ComplexNN(input_dim)\n",
        "criterion = nn.BCELoss()\n",
        "optimizer = optim.Adam(model.parameters(), lr=0.001)\n",
        "\n",
        "# Обучение модели\n",
        "train_losses, test_losses = train_model(model, criterion, optimizer, train_loader, test_loader)"
      ]
    },
    {
      "cell_type": "code",
      "execution_count": 25,
      "metadata": {
        "colab": {
          "base_uri": "https://localhost:8080/",
          "height": 449
        },
        "id": "6nLSMkkZCZL9",
        "outputId": "3d6b9988-9c89-4d90-ed36-c2a4e483491c"
      },
      "outputs": [
        {
          "data": {
            "image/png": "[encoded data removed]",
            "text/plain": [
              "<Figure size 640x480 with 1 Axes>"
            ]
          },
          "metadata": {},
          "output_type": "display_data"
        }
      ],
      "source": [
        "plt.plot(train_losses, label='Train Loss')\n",
        "plt.plot(test_losses, label='Test Loss')\n",
        "plt.xlabel('Epoch')\n",
        "plt.ylabel('Loss')\n",
        "plt.legend()\n",
        "plt.show()"
      ]
    },
    {
      "cell_type": "code",
      "execution_count": 26,
      "metadata": {
        "colab": {
          "base_uri": "https://localhost:8080/"
        },
        "id": "5bobh-m6Carg",
        "outputId": "fc652135-01bf-4f3f-c391-1ba8beb43f1a"
      },
      "outputs": [
        {
          "name": "stdout",
          "output_type": "stream",
          "text": [
            "Train Accuracy: 0.9978, Train MAE: 0.0022\n",
            "Test Accuracy: 0.8393, Test MAE: 0.1607\n"
          ]
        }
      ],
      "source": [
        "def evaluate_model(model, loader):\n",
        "    model.eval()\n",
        "    all_labels = []\n",
        "    all_preds = []\n",
        "    with torch.no_grad():\n",
        "        for inputs, labels in loader:\n",
        "            outputs = model(inputs).squeeze()\n",
        "            preds = (outputs > 0.5).float()\n",
        "            all_labels.extend(labels.numpy())\n",
        "            all_preds.extend(preds.numpy())\n",
        "    accuracy = accuracy_score(all_labels, all_preds)\n",
        "    mae = mean_absolute_error(all_labels, all_preds)\n",
        "    return accuracy, mae\n",
        "\n",
        "train_accuracy, train_mae = evaluate_model(model, train_loader)\n",
        "test_accuracy, test_mae = evaluate_model(model, test_loader)\n",
        "\n",
        "print(f'Train Accuracy: {train_accuracy:.4f}, Train MAE: {train_mae:.4f}')\n",
        "print(f'Test Accuracy: {test_accuracy:.4f}, Test MAE: {test_mae:.4f}')"
      ]
    }
  ],
  "metadata": {
    "colab": {
      "provenance": []
    },
    "kernelspec": {
      "display_name": "Python 3",
      "name": "python3"
    },
    "language_info": {
      "codemirror_mode": {
        "name": "ipython",
        "version": 3
      },
      "file_extension": ".py",
      "mimetype": "text/x-python",
      "name": "python",
      "nbconvert_exporter": "python",
      "pygments_lexer": "ipython3",
      "version": "3.11.5"
    }
  },
  "nbformat": 4,
  "nbformat_minor": 0
}
