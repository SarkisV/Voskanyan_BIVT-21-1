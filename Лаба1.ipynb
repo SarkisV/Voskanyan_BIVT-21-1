{
 "cells": [
  {
   "cell_type": "markdown",
   "id": "210e7b11-d832-402e-a7ea-4063a188d164",
   "metadata": {},
   "source": [
    "# Лабораторная работа №1"
   ]
  },
  {
   "cell_type": "markdown",
   "id": "cd7cf12e-379d-460e-aeb1-4f58a240787c",
   "metadata": {},
   "source": [
    "## Восканян Саркис Араратович:"
   ]
  },
  {
   "cell_type": "markdown",
   "id": "25eb33b5-f130-483b-a73e-178233643796",
   "metadata": {},
   "source": [
    "## Группа: БИВТ-21-1"
   ]
  },
  {
   "cell_type": "code",
   "execution_count": 4,
   "id": "f32340e1-d389-4dea-89e0-4eacd8dd3843",
   "metadata": {},
   "outputs": [],
   "source": [
    "a = 5\n",
    "assert a == 5  # assert проходит, т.к. a равно 0"
   ]
  },
  {
   "cell_type": "code",
   "execution_count": 88,
   "id": "bc89fe2e-2e1f-4619-92b1-fd4d54842375",
   "metadata": {},
   "outputs": [
    {
     "ename": "AssertionError",
     "evalue": "",
     "output_type": "error",
     "traceback": [
      "\u001b[1;31m---------------------------------------------------------------------------\u001b[0m",
      "\u001b[1;31mAssertionError\u001b[0m                            Traceback (most recent call last)",
      "Cell \u001b[1;32mIn[88], line 1\u001b[0m\n\u001b[1;32m----> 1\u001b[0m \u001b[38;5;28;01massert\u001b[39;00m a \u001b[38;5;241m>\u001b[39m \u001b[38;5;241m6\u001b[39m  \u001b[38;5;66;03m# assert не проходит, т.к. а не больше 6, выпадает ошибка\u001b[39;00m\n",
      "\u001b[1;31mAssertionError\u001b[0m: "
     ]
    }
   ],
   "source": [
    "assert a > 6  # assert не проходит, т.к. а не больше 6, выпадает ошибка"
   ]
  },
  {
   "cell_type": "markdown",
   "id": "6cd375eb-9e04-42d3-8159-8055d933f4b2",
   "metadata": {
    "jp-MarkdownHeadingCollapsed": true
   },
   "source": [
    "# 1. Базовые типы переменных"
   ]
  },
  {
   "cell_type": "code",
   "execution_count": 8,
   "id": "0b0b831f-398e-41e6-823f-3edab5d06ef4",
   "metadata": {},
   "outputs": [],
   "source": [
    "int_variable = 123  # int\n",
    "assert isinstance(int_variable, int)\n",
    "\n",
    "float_variable = 23.2  # float\n",
    "assert isinstance(float_variable, float)\n",
    "\n",
    "string_variable = 'Abc'  # string\n",
    "assert isinstance(string_variable, str)\n",
    "\n",
    "bool_variable = True  # bool\n",
    "assert isinstance(bool_variable, bool)"
   ]
  },
  {
   "cell_type": "code",
   "execution_count": 9,
   "id": "6baf7acd-5fc6-4a08-9deb-bb4ade609df1",
   "metadata": {},
   "outputs": [],
   "source": [
    "list_variable = ['l1','l2','l3',4,True]  # list\n",
    "assert isinstance(list_variable, list)\n",
    "\n",
    "tuple_variable = ('l1','l2','l3',4,True)  # tuple\n",
    "assert isinstance(tuple_variable, tuple)\n",
    "\n",
    "set_variable = {'l1','l2','l3',4,True}  # set\n",
    "assert isinstance(set_variable, set)\n",
    "\n",
    "dict_variable = {'name': 'Jake', 'age': 33, 'children': ['Mary','Mark','Maria']}  # dict\n",
    "assert isinstance(dict_variable, dict)"
   ]
  },
  {
   "cell_type": "markdown",
   "id": "55968857-c553-4e65-b566-ff7bcfd5a40f",
   "metadata": {
    "jp-MarkdownHeadingCollapsed": true
   },
   "source": [
    "# 2.1 Различные функции"
   ]
  },
  {
   "cell_type": "code",
   "execution_count": 10,
   "id": "9d8f229a-6179-4930-abb5-d064f13bc306",
   "metadata": {},
   "outputs": [],
   "source": [
    "def difference_of_two_numbers(first, second):\n",
    "    \"\"\"Возвращает разницу между первым и вторым аргументом\"\"\"\n",
    "    return first - second\n",
    "    pass\n",
    "\n",
    "\n",
    "assert difference_of_two_numbers(2, 1) == 1\n",
    "assert difference_of_two_numbers(4, 1) == 3\n",
    "assert difference_of_two_numbers(10, 0) == 10\n",
    "assert difference_of_two_numbers(-5, -6) == 1"
   ]
  },
  {
   "cell_type": "code",
   "execution_count": 17,
   "id": "b61978e4-192c-4e43-a97c-732930037a24",
   "metadata": {},
   "outputs": [],
   "source": [
    "def condition_function(input_number):\n",
    "    \"\"\"\n",
    "    Если входное число меньше либо равно 0, то умножить его на 2.\n",
    "    В противном случае, если число больше 0, но меньше или равно 10, умножить на 3.\n",
    "    Во всех прочих случаях поделить на 10.\n",
    "    \"\"\"\n",
    "    if input_number < 0: \n",
    "        return input_number * 2\n",
    "    elif 0 < input_number <= 10: \n",
    "        return input_number * 3\n",
    "    else: \n",
    "        return input_number / 10\n",
    "    pass\n",
    "\n",
    "\n",
    "assert condition_function(0) == 0\n",
    "assert condition_function(-1) == -2\n",
    "assert condition_function(1) == 3\n",
    "assert condition_function(10) == 30\n",
    "assert condition_function(11) == 1.1\n",
    "assert condition_function(20) == 2"
   ]
  },
  {
   "cell_type": "code",
   "execution_count": 18,
   "id": "a5b6f441-893e-4a19-8d91-6e259527f40b",
   "metadata": {},
   "outputs": [],
   "source": [
    "def calculator(number_1, operation, number_2):\n",
    "    \"\"\"\n",
    "    Простой оператор, способный выполнять операции +, -, *, /.\n",
    "    На входе первое число, операция в виде строки и второе число.\n",
    "    \n",
    "    Пример: \n",
    "    >>> calculator(1, \"+\", 1)\n",
    "    >>> 2\n",
    "    \"\"\"\n",
    "    if operation == \"+\": \n",
    "        return number_1 + number_2\n",
    "    if operation == \"-\": \n",
    "        return number_1 - number_2\n",
    "    if operation == \"*\": \n",
    "        return number_1 * number_2\n",
    "    if operation == \"/\": \n",
    "        return number_1 / number_2\n",
    "    pass\n",
    "\n",
    "\n",
    "assert calculator(1, \"+\", 2) == 3\n",
    "assert calculator(3, \"-\", 1) == 2\n",
    "assert calculator(4, \"*\", 3) == 12\n",
    "assert calculator(2, \"/\", 2) == 1"
   ]
  },
  {
   "cell_type": "code",
   "execution_count": 52,
   "id": "74944ef8-4f1d-4bfa-8863-f6d06ccb6800",
   "metadata": {},
   "outputs": [],
   "source": [
    "def number_of_unique_elements(input_list):\n",
    "    \"\"\"\n",
    "    Считает количество уникальных элементов в листе.\n",
    "    \"\"\"\n",
    "\n",
    "    temp_list = []\n",
    "    count = 0\n",
    "    for x in input_list:\n",
    "        if x not in temp_list:\n",
    "            temp_list.append(x)\n",
    "            count = count + 1\n",
    "    return count\n",
    "    \n",
    "    pass\n",
    "\n",
    "assert number_of_unique_elements([1, 2, 3]) == 3\n",
    "assert number_of_unique_elements([1, 2, 3]) == 3\n",
    "assert number_of_unique_elements([1] * 93) == 1\n",
    "assert number_of_unique_elements(list(range(1000))) == 1000"
   ]
  },
  {
   "cell_type": "code",
   "execution_count": 65,
   "id": "ef64eef5-80b4-48a1-8241-2e0c22edbc0f",
   "metadata": {},
   "outputs": [],
   "source": [
    "def counter(input_list):\n",
    "    \"\"\"\n",
    "    Считает количество вхождений каждого из элементов листа.\n",
    "    Возвращает словарь вида {число: количество вхождений}\n",
    "    \n",
    "    Замечание (!): встроенным в collections Counter'ом пользоваться нельзя\n",
    "    \n",
    "    Например:\n",
    "    counter([1, 1, 2, 3]) вернет {1: 2, 2: 1, 3: 1}\n",
    "    \"\"\"\n",
    "    dict = {}\n",
    "    temp_list = []\n",
    "    for x in input_list:\n",
    "        count = 0\n",
    "        if x not in temp_list:\n",
    "            for y in input_list:\n",
    "                if y == x: \n",
    "                    count = count + 1\n",
    "            temp_list.append(x)\n",
    "        if count != 0:\n",
    "            dict[x] = count\n",
    "    return dict\n",
    "    pass\n",
    "\n",
    "\n",
    "assert counter([1, 1, 1, 2, 3]) == {1: 3, 2: 1, 3: 1}\n",
    "assert counter([1] * 1000) == {1: 1000}\n",
    "assert counter([1, 3, 5] * 100) == {1: 100, 3: 100, 5: 100}"
   ]
  },
  {
   "cell_type": "code",
   "execution_count": 70,
   "id": "82f72333-cea0-4cbf-9daa-4bafe3576d64",
   "metadata": {},
   "outputs": [],
   "source": [
    "def multiply_nums(input_string):\n",
    "    \"\"\"\n",
    "    Перемножить числа, переданные в строке, перечисленные через запятую.\n",
    "    \n",
    "    hint: можно использовать метод .split()\n",
    "    \"\"\"\n",
    "    res = 1\n",
    "    string = input_string.split(\",\")\n",
    "    for x in string:\n",
    "        res *= float(x)\n",
    "    return res\n",
    "    pass\n",
    "\n",
    "\n",
    "assert multiply_nums(\"2, 3\") == 6\n",
    "assert multiply_nums(\"1, 1, 1, 1, 1, 1, 1\") == 1\n",
    "assert multiply_nums(\"345, 4576, 794, 325, 0\") == 0"
   ]
  },
  {
   "cell_type": "code",
   "execution_count": 71,
   "id": "617124c6-e45a-46e9-8375-352d5ed37e17",
   "metadata": {},
   "outputs": [],
   "source": [
    "import math"
   ]
  },
  {
   "cell_type": "code",
   "execution_count": 73,
   "id": "74a90ace-1fee-4451-9ad1-361d8420c993",
   "metadata": {},
   "outputs": [],
   "source": [
    "def custom_function(x):\n",
    "    \"\"\"\n",
    "    Реализуйте функцию, описанную выше.\n",
    "    \"\"\"\n",
    "    return math.sin(x) * math.cos(x)\n",
    "    pass\n",
    "\n",
    "assert round(custom_function(1), 3) == 0.455\n",
    "assert round(custom_function(1.5), 3) == 0.071\n",
    "assert round(custom_function(2), 3) == -0.378\n",
    "assert custom_function(0) == 0"
   ]
  },
  {
   "cell_type": "code",
   "execution_count": 85,
   "id": "eea58d8b-5aaf-4cd3-96c0-41e66535db88",
   "metadata": {},
   "outputs": [
    {
     "name": "stdout",
     "output_type": "stream",
     "text": [
      "2.7066314174469377\n",
      "8.27683559832403\n",
      "49.699880147148015\n"
     ]
    }
   ],
   "source": [
    "def custom_function_1(x, n):\n",
    "    \"\"\"\n",
    "    Реализуйте функцию, описанную выше.\n",
    "    \"\"\"\n",
    "    y = 1\n",
    "    for i in range(1,n+1):\n",
    "        y *= ((i+2)**x+math.log(x))/(x**2+4*i)\n",
    "    print(y)\n",
    "    return y\n",
    "    pass\n",
    "\n",
    "\n",
    "assert round(custom_function_1(2, 3), 3) == 2.707\n",
    "assert round(custom_function_1(3, 2), 3) == 8.277\n",
    "assert round(custom_function_1(3, 3), 3) == 49.7"
   ]
  },
  {
   "cell_type": "markdown",
   "id": "0ea19495-5ed3-46a1-b775-6e99b326da3f",
   "metadata": {},
   "source": [
    "# 2.2 Задачки на написание функций\n"
   ]
  },
  {
   "cell_type": "markdown",
   "id": "59dbf0f2-d386-40ea-b26d-15a78edfd852",
   "metadata": {},
   "source": [
    "## \n",
    "1. Дано число n. С начала суток прошло n минут. Определите, сколько часов и минут будут показывать электронные часы в этот момент. Программа должна вывести два числа: количество часов (от 0 до 23) и количество минут (от 0 до 59). Учтите, что число n может быть больше, чем количество минут в сутках."
   ]
  },
  {
   "cell_type": "code",
   "execution_count": 111,
   "id": "e604c66e-3395-4378-b99d-ea78e7f91d00",
   "metadata": {},
   "outputs": [],
   "source": [
    "def time_converter (n):\n",
    "    hours = n // 60\n",
    "    minutes = n - hours * 60\n",
    "    while hours > 23:\n",
    "        hours -= 24\n",
    "    res = str(hours) + ' ' + str(minutes)\n",
    "    return res\n",
    "    pass\n",
    "\n",
    "\n",
    "assert time_converter(2782) == '22 22'\n",
    "assert time_converter(4733) == '6 53'\n",
    "assert time_converter(1766) == '5 26'\n",
    "assert time_converter(3865) == '16 25'\n",
    "assert time_converter(4628) == '5 8'\n",
    "assert time_converter(4353) == '0 33'\n",
    "assert time_converter(268) == '4 28'\n",
    "assert time_converter(4373) == '0 53'\n",
    "assert time_converter(2722) == '21 22'\n",
    "assert time_converter(1531) == '1 31'"
   ]
  },
  {
   "cell_type": "markdown",
   "id": "893c8c89-99ed-478b-8154-183854cce9e9",
   "metadata": {},
   "source": [
    "## \n",
    "2. Написать функцию, которая выводит минимум из трех чисел. Использовать min нельзя. Только if."
   ]
  },
  {
   "cell_type": "code",
   "execution_count": 115,
   "id": "855958ba-f903-44c4-9f68-47b15ec36ecb",
   "metadata": {},
   "outputs": [],
   "source": [
    "def min_of_three_values(a,b,c):\n",
    "    if  a <= b <= c:\n",
    "        return a\n",
    "    elif a <= c <= b:\n",
    "        return a\n",
    "    elif  c <= a <= b:\n",
    "        return c\n",
    "    elif c <= b <= a:\n",
    "        return a\n",
    "    elif  b <= a <= c:\n",
    "        return b\n",
    "    elif b <= c <= a:\n",
    "        return b\n",
    "\n",
    "\n",
    "assert min_of_three_values(1, 2, 3) == 1\n",
    "assert min_of_three_values(1, 1, 9) == 1\n",
    "assert min_of_three_values(18, 7, 11) == 7\n",
    "assert min_of_three_values(2, 10, 10) == 2\n",
    "assert min_of_three_values(17, 14, 17) == 14\n",
    "assert min_of_three_values(9, 2, 10) == 2\n",
    "assert min_of_three_values(7, 4, 7) == 4\n",
    "assert min_of_three_values(0, 8, 3) == 0\n",
    "assert min_of_three_values(8, 10, 6) == 6\n",
    "assert min_of_three_values(1, 4, 8) == 1"
   ]
  },
  {
   "cell_type": "markdown",
   "id": "5f4a1a83-fe25-4f75-bbfc-240f391be4fa",
   "metadata": {},
   "source": [
    "## \n",
    "3. Удаление символа из строки. Необходимо использовать встроенный метод .replace()\n"
   ]
  },
  {
   "cell_type": "code",
   "execution_count": 117,
   "id": "b3f13b08-0808-406b-9704-1720b6595e09",
   "metadata": {},
   "outputs": [],
   "source": [
    "def remove_symbol (str, remove_letter):\n",
    "    return str.replace(remove_letter,'')\n",
    "\n",
    "assert remove_symbol('aaaaaaaa', 'a') == ''\n",
    "assert remove_symbol('abababa', 'b') == 'aaaa'\n",
    "assert remove_symbol('12341234', '3') == '124124'"
   ]
  },
  {
   "cell_type": "markdown",
   "id": "99197da0-830a-4f51-b2ab-94106d6a8b65",
   "metadata": {},
   "source": [
    "## \n",
    "4. Удаление каждого 3 символа из строки\n"
   ]
  },
  {
   "cell_type": "code",
   "execution_count": 147,
   "id": "e213d36f-439c-4473-96c4-96e9bae806e4",
   "metadata": {},
   "outputs": [],
   "source": [
    "# Функция remove_each_third_sym принимает один агрумент -- строку.\n",
    "# важно -- мы считаем человеческие индексы (начиная с 1, а не 0)\n",
    "# важно -- оставляем первый аргумент\n",
    "# Необходимо вернуть новую строку \n",
    "def remove_each_third_sym(str):\n",
    "    str_res = str[0]\n",
    "    for i in range(1, len(str)):\n",
    "        if i%3 != 2:\n",
    "            str_res += str[i]       \n",
    "    return str_res\n",
    "\n",
    "assert remove_each_third_sym('abcdef') == 'abde'\n",
    "assert remove_each_third_sym('sdfasdfasdfsfa') == 'sdasfadffa'\n",
    "assert remove_each_third_sym('123456789') == '124578'\n",
    "assert remove_each_third_sym('987654321') == '986532'"
   ]
  },
  {
   "cell_type": "markdown",
   "id": "f4c0baf4-7a8d-44d6-b440-6663faf1b31b",
   "metadata": {},
   "source": [
    "##\n",
    "5. Вывести максимальный элемент и его индекс в листе\n"
   ]
  },
  {
   "cell_type": "code",
   "execution_count": 169,
   "id": "3a3a6868-359b-40e9-a6f1-324a00add1d4",
   "metadata": {},
   "outputs": [],
   "source": [
    "def find_max(list):\n",
    "    max = list[0]\n",
    "    index = 0\n",
    "    for i in range (1, len(list)):\n",
    "        if(max<list[i]):\n",
    "            max = list[i]\n",
    "            index = i\n",
    "    return max, index\n",
    "\n",
    "\n",
    "assert find_max([1, 2, 3, 4, 5]) == (5, 4)\n",
    "assert find_max([5, 4, 3, 2, 1]) == (5, 0)\n",
    "assert find_max([96, 82, 72, 48, 93, 88, 79]) == (96, 0)\n",
    "assert find_max([49, 75, 65, 65, 65, 18]) == (75, 1)\n",
    "assert find_max([69, 16, 64, 54, 36, 70, 89, 29]) == (89, 6)\n",
    "assert find_max([17, 80, 27, 36, 21, 85, 63, 27]) == (85, 5)\n",
    "assert find_max([76, 27, 73, 65, 52]) == (76, 0)\n",
    "assert find_max([33, 26, 69, 40, 93]) == (93, 4)\n",
    "assert find_max([87, 5, 95, 52, 21, 76, 22]) == (95, 2)\n",
    "assert find_max([75, 18, 89, 99, 70]) == (99, 3)"
   ]
  },
  {
   "cell_type": "markdown",
   "id": "9f61c9fc-2fef-4945-8ad2-1702fc238d3e",
   "metadata": {},
   "source": [
    "## \n",
    "6. Вставить элемент в конец листа. Использовать метод append можно и нужно\n"
   ]
  },
  {
   "cell_type": "code",
   "execution_count": 172,
   "id": "09a29f96-18fd-4929-83fe-e5525880a385",
   "metadata": {},
   "outputs": [],
   "source": [
    "# функция append_to_list принимает два значения -- лист и значение, которое необходимо вставить в конец листа\n",
    "# функция возвращает обновленный лист\n",
    "def append_to_list(list, value):\n",
    "    list.append(value)\n",
    "    return list\n",
    "\n",
    "assert append_to_list([1, 2], 3) == [1, 2, 3]\n",
    "assert append_to_list([1, 2], None) == [1, 2, None]\n",
    "assert append_to_list([1, 's'], True) == [1, 's', True]"
   ]
  },
  {
   "cell_type": "markdown",
   "id": "0c11486f-d9ab-4b1f-b37f-a297e9255853",
   "metadata": {},
   "source": [
    "##\n",
    "7. Количество уникальных чисел в листе. Нужно использовать множества (set)\n"
   ]
  },
  {
   "cell_type": "code",
   "execution_count": 178,
   "id": "114ea7f6-c754-4ddf-8b00-bff95755fe92",
   "metadata": {},
   "outputs": [],
   "source": [
    "# функция number_unique_elements принимает на вход лист\n",
    "# на выходе одно число -- количество уникальных элементов\n",
    "def number_unique_elements(list):\n",
    "    set_list = set(list)\n",
    "    return len(set_list)\n",
    "\n",
    "assert number_unique_elements([1, 2, 3]) == 3\n",
    "assert number_unique_elements([1, 2, 1]) == 2\n",
    "assert number_unique_elements([1, 1, 1, 1]) == 1\n",
    "assert number_unique_elements([1, 2, 1, 2]) == 2"
   ]
  },
  {
   "cell_type": "markdown",
   "id": "fcaa74eb-60c3-468e-a103-9c5bc60cadc1",
   "metadata": {},
   "source": [
    "# 3. Классы\n"
   ]
  },
  {
   "cell_type": "markdown",
   "id": "9e868c0c-b239-4601-9213-debfa25353ff",
   "metadata": {},
   "source": [
    "## \n",
    "1. Напишите класс Vehicle с двумя атрибутами -- максимальная скорость (max_speed) и пробег (mileage)\n",
    "Необходимо реализовать только метод-конструктор __init__"
   ]
  },
  {
   "cell_type": "code",
   "execution_count": 181,
   "id": "18926d14-7a56-4c2b-90e6-394defc7b0f4",
   "metadata": {},
   "outputs": [],
   "source": [
    "class Vehicle:\n",
    "    def __init__(self, max_speed,mileage):\n",
    "        self.max_speed = max_speed\n",
    "        self.mileage = mileage\n",
    "    pass\n",
    "\n",
    "\n",
    "veh1 = Vehicle(100, 50)\n",
    "assert (veh1.max_speed, veh1.mileage) == (100, 50)\n",
    "\n",
    "veh2 = Vehicle(200, 3)\n",
    "assert (veh2.max_speed, veh2.mileage) == (200, 3)"
   ]
  },
  {
   "cell_type": "markdown",
   "id": "3718392f-001f-4b7f-a1c0-26aff5a2545e",
   "metadata": {},
   "source": [
    "# \n",
    "Напишите класс Truck, который наследуется от Vehicle\n",
    "P.S. Наследование возможно при помощи конструкции class Subclass(MotherClass):"
   ]
  },
  {
   "cell_type": "code",
   "execution_count": 183,
   "id": "c556f8b5-056d-47d7-8522-6b73ff155b59",
   "metadata": {},
   "outputs": [],
   "source": [
    "class Truck(Vehicle):\n",
    "    pass\n",
    "\n",
    "\n",
    "truck1 = Truck(50, 1000)\n",
    "assert (truck1.max_speed, truck1.mileage) == (50, 1000)\n",
    "\n",
    "truck2 = Truck(43, 235)\n",
    "assert (truck2.max_speed, truck2.mileage) == (43, 235)"
   ]
  },
  {
   "cell_type": "code",
   "execution_count": 197,
   "id": "33fc6893-30e2-4ca9-8580-18cdb9e428e7",
   "metadata": {},
   "outputs": [],
   "source": [
    "class MyList:\n",
    "    def __init__(self,list):\n",
    "        self.list = list\n",
    "        pass\n",
    "    \n",
    "    def return_sum(self):\n",
    "        sum = 0\n",
    "        for x in self.list:\n",
    "            sum += x\n",
    "        return sum\n",
    "        pass\n",
    "    \n",
    "    def make_reverse(self):\n",
    "        new_list = []\n",
    "        for x in reversed(self.list):\n",
    "            new_list.append(x)\n",
    "        return new_list\n",
    "        pass\n",
    "    \n",
    "    def make_slice(self, start, stop):\n",
    "        self.list = self.list[start:stop]\n",
    "        return self.list\n",
    "        pass\n",
    "    \n",
    "    \n",
    "a = MyList([1, 2, 3, 4])\n",
    "assert a.return_sum() == 10\n",
    "assert a.make_reverse() == [4, 3, 2, 1]\n",
    "assert a.make_slice(0, 2) == [1, 2]\n",
    "\n",
    "b = MyList([5, 6, 6, 5])\n",
    "assert b.return_sum() == 22\n",
    "assert b.make_reverse() == [5, 6, 6, 5]\n",
    "assert b.make_slice(1, 2) == [6]"
   ]
  },
  {
   "cell_type": "code",
   "execution_count": null,
   "id": "477535fe-660f-41a0-bbc7-90dfb29c0585",
   "metadata": {},
   "outputs": [],
   "source": []
  }
 ],
 "metadata": {
  "kernelspec": {
   "display_name": "Python 3 (ipykernel)",
   "language": "python",
   "name": "python3"
  },
  "language_info": {
   "codemirror_mode": {
    "name": "ipython",
    "version": 3
   },
   "file_extension": ".py",
   "mimetype": "text/x-python",
   "name": "python",
   "nbconvert_exporter": "python",
   "pygments_lexer": "ipython3",
   "version": "3.12.2"
  }
 },
 "nbformat": 4,
 "nbformat_minor": 5
}
